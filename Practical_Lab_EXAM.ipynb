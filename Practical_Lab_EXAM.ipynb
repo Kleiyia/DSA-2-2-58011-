{
  "nbformat": 4,
  "nbformat_minor": 0,
  "metadata": {
    "colab": {
      "name": "Practical Lab EXAM.ipynb",
      "provenance": [],
      "authorship_tag": "ABX9TyN5oeZYnc9OKci2HoaoNJQu",
      "include_colab_link": true
    },
    "kernelspec": {
      "name": "python3",
      "display_name": "Python 3"
    },
    "language_info": {
      "name": "python"
    }
  },
  "cells": [
    {
      "cell_type": "markdown",
      "metadata": {
        "id": "view-in-github",
        "colab_type": "text"
      },
      "source": [
        "<a href=\"https://colab.research.google.com/github/ZamoraKath/DSA-2-2-58011-/blob/main/Practical_Lab_EXAM.ipynb\" target=\"_parent\"><img src=\"https://colab.research.google.com/assets/colab-badge.svg\" alt=\"Open In Colab\"/></a>"
      ]
    },
    {
      "cell_type": "code",
      "execution_count": 1,
      "metadata": {
        "colab": {
          "base_uri": "https://localhost:8080/"
        },
        "id": "k2V65PL5j1sr",
        "outputId": "caf0acdd-9c02-4aff-877a-b8fc9e84ee5d"
      },
      "outputs": [
        {
          "output_type": "stream",
          "name": "stdout",
          "text": [
            "The total Score\n",
            "397\n"
          ]
        }
      ],
      "source": [
        "Scores = [26,49,98,87,62,75]\n",
        "\n",
        "Sum = sum(Scores)\n",
        "\n",
        "print('The total Score')\n",
        "print(Sum)"
      ]
    },
    {
      "cell_type": "code",
      "source": [
        "num = [26,49,98,87,62,75]\n",
        "sum = 0\n",
        "number=int(input(\"Enter total number: \"))\n",
        "for i in range(1,number+1):\n",
        "  value=int(input(\"Input %d element: \"))\n",
        "  num.append(value)\n",
        "\n",
        "for j in range(number):\n",
        "  if(num[j]%2==1):\n",
        "    sum = sum + num[j]\n",
        "\n",
        "print(\"The sum of odd numbers in the list:,sum\")"
      ],
      "metadata": {
        "id": "LNs4VMRYoq9j"
      },
      "execution_count": null,
      "outputs": []
    }
  ]
}