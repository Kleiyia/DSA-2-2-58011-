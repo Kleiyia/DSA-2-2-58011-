{
  "nbformat": 4,
  "nbformat_minor": 0,
  "metadata": {
    "colab": {
      "provenance": [],
      "authorship_tag": "ABX9TyPUm7snP25wEZNWlOpSu8N7",
      "include_colab_link": true
    },
    "kernelspec": {
      "name": "python3",
      "display_name": "Python 3"
    },
    "language_info": {
      "name": "python"
    }
  },
  "cells": [
    {
      "cell_type": "markdown",
      "metadata": {
        "id": "view-in-github",
        "colab_type": "text"
      },
      "source": [
        "<a href=\"https://colab.research.google.com/github/ZamoraKath/DSA-2-2-58011-/blob/main/Array_Activity.ipynb\" target=\"_parent\"><img src=\"https://colab.research.google.com/assets/colab-badge.svg\" alt=\"Open In Colab\"/></a>"
      ]
    },
    {
      "cell_type": "markdown",
      "source": [
        "Access individual elements through indexes and compute for the sum"
      ],
      "metadata": {
        "id": "awRpwcnZWvYQ"
      }
    },
    {
      "cell_type": "code",
      "execution_count": 51,
      "metadata": {
        "colab": {
          "base_uri": "https://localhost:8080/"
        },
        "id": "BQwLCcj4Ry6g",
        "outputId": "49b65d21-4ef8-485f-df9c-bf38db86c286"
      },
      "outputs": [
        {
          "output_type": "stream",
          "name": "stdout",
          "text": [
            "The array are [1, 2, 3, 4, 5, 6, 7, 8, 9, 10]\n",
            "1\n",
            "2\n",
            "3\n",
            "4\n",
            "5\n",
            "6\n",
            "7\n",
            "8\n",
            "9\n",
            "10\n"
          ]
        }
      ],
      "source": [
        "array = [1,2,3,4,5,6,7,8,9,10]\n",
        "print('The array are' , array)\n",
        "Int1 = \"1\"\n",
        "Int2 = \"2\"\n",
        "Int3 = \"3\"\n",
        "Int4 = \"4\"\n",
        "Int5 = \"5\"\n",
        "Int6 = \"6\"\n",
        "Int7 = \"7\"\n",
        "Int8 = \"8\"\n",
        "Int9 = \"9\"\n",
        "Int20 = \"10\"\n",
        "for x in array:\n",
        "  print(x)"
      ]
    },
    {
      "cell_type": "markdown",
      "source": [
        "Append a new item to the end of the array"
      ],
      "metadata": {
        "id": "dhOkpGrCYBAA"
      }
    },
    {
      "cell_type": "code",
      "source": [
        "array = [1,2,3,4,5,6,7,8,9,10]\n",
        "print('The array are' , array)\n",
        "Int1 = \"1\"\n",
        "Int2 = \"2\"\n",
        "Int3 = \"3\"\n",
        "Int4 = \"4\"\n",
        "Int5 = \"5\"\n",
        "Int6 = \"6\"\n",
        "Int7 = \"7\"\n",
        "Int8 = \"8\"\n",
        "Int9 = \"9\"\n",
        "Int20 = \"10\"\n",
        "for x in array:\n",
        "  print(x)\n",
        "array.append(\"11\")\n",
        "print('The array are' , array)"
      ],
      "metadata": {
        "colab": {
          "base_uri": "https://localhost:8080/"
        },
        "id": "i-WEnGUXYFbG",
        "outputId": "60d444e4-71f2-4a82-d606-029308230a6a"
      },
      "execution_count": 54,
      "outputs": [
        {
          "output_type": "stream",
          "name": "stdout",
          "text": [
            "The array are [1, 2, 3, 4, 5, 6, 7, 8, 9, 10]\n",
            "1\n",
            "2\n",
            "3\n",
            "4\n",
            "5\n",
            "6\n",
            "7\n",
            "8\n",
            "9\n",
            "10\n",
            "The array are [1, 2, 3, 4, 5, 6, 7, 8, 9, 10, '11']\n"
          ]
        }
      ]
    },
    {
      "cell_type": "markdown",
      "source": [
        "Insert a new item before the second element in an existing array"
      ],
      "metadata": {
        "id": "YNPUC9gRYnnG"
      }
    },
    {
      "cell_type": "code",
      "source": [
        "array = [1,2,3,4,5,6,7,8,9,10]\n",
        "print('The array are' , array)\n",
        "Int1 = \"1\"\n",
        "Int2 = \"2\"\n",
        "Int3 = \"3\"\n",
        "Int4 = \"4\"\n",
        "Int5 = \"5\"\n",
        "Int6 = \"6\"\n",
        "Int7 = \"7\"\n",
        "Int8 = \"8\"\n",
        "Int9 = \"9\"\n",
        "Int20 = \"10\"\n",
        "for x in array:\n",
        "  print(x)\n",
        "array.append(\"11\")\n",
        "array.insert(1,21)\n",
        "print('The array are' , array)"
      ],
      "metadata": {
        "colab": {
          "base_uri": "https://localhost:8080/"
        },
        "id": "zdwpL7plYmz-",
        "outputId": "70b01ade-1663-470c-df1d-86491b8d2165"
      },
      "execution_count": 56,
      "outputs": [
        {
          "output_type": "stream",
          "name": "stdout",
          "text": [
            "The array are [1, 2, 3, 4, 5, 6, 7, 8, 9, 10]\n",
            "1\n",
            "2\n",
            "3\n",
            "4\n",
            "5\n",
            "6\n",
            "7\n",
            "8\n",
            "9\n",
            "10\n",
            "The array are [1, 21, 2, 3, 4, 5, 6, 7, 8, 9, 10, '11']\n"
          ]
        }
      ]
    },
    {
      "cell_type": "markdown",
      "source": [
        "Reverse the order of the items in the array"
      ],
      "metadata": {
        "id": "OxkKohl8Yvtu"
      }
    },
    {
      "cell_type": "code",
      "source": [
        "array = [1,2,3,4,5,6,7,8,9,10]\n",
        "print('The array are' , array)\n",
        "Int1 = \"1\"\n",
        "Int2 = \"2\"\n",
        "Int3 = \"3\"\n",
        "Int4 = \"4\"\n",
        "Int5 = \"5\"\n",
        "Int6 = \"6\"\n",
        "Int7 = \"7\"\n",
        "Int8 = \"8\"\n",
        "Int9 = \"9\"\n",
        "Int20 = \"10\"\n",
        "for x in array:\n",
        "  print(x)\n",
        "array.append(\"11\")\n",
        "array.insert(1,21)\n",
        "array.reverse()\n",
        "print('The array are' , array)"
      ],
      "metadata": {
        "colab": {
          "base_uri": "https://localhost:8080/"
        },
        "id": "mwth4TanY0Yu",
        "outputId": "6737cf29-3df1-4915-d4c9-d48e7b83e372"
      },
      "execution_count": 57,
      "outputs": [
        {
          "output_type": "stream",
          "name": "stdout",
          "text": [
            "The array are [1, 2, 3, 4, 5, 6, 7, 8, 9, 10]\n",
            "1\n",
            "2\n",
            "3\n",
            "4\n",
            "5\n",
            "6\n",
            "7\n",
            "8\n",
            "9\n",
            "10\n",
            "The array are ['11', 10, 9, 8, 7, 6, 5, 4, 3, 2, 21, 1]\n"
          ]
        }
      ]
    },
    {
      "cell_type": "markdown",
      "source": [
        "Length of the array"
      ],
      "metadata": {
        "id": "UfJ4x878Y0mm"
      }
    },
    {
      "cell_type": "code",
      "source": [
        "array = [1,2,3,4,5,6,7,8,9,10]\n",
        "print('The array are' , array)\n",
        "Int1 = \"1\"\n",
        "Int2 = \"2\"\n",
        "Int3 = \"3\"\n",
        "Int4 = \"4\"\n",
        "Int5 = \"5\"\n",
        "Int6 = \"6\"\n",
        "Int7 = \"7\"\n",
        "Int8 = \"8\"\n",
        "Int9 = \"9\"\n",
        "Int20 = \"10\"\n",
        "for x in array:\n",
        "  print(x)\n",
        "array.append(\"11\")\n",
        "array.insert(1,21)\n",
        "array.reverse()\n",
        "for x in array:\n",
        "  print(x)\n",
        "print('The array are' , array)"
      ],
      "metadata": {
        "colab": {
          "base_uri": "https://localhost:8080/"
        },
        "id": "bBrWPU6kY4uW",
        "outputId": "4eadb0ad-6aaa-4a1a-c068-30912a09d475"
      },
      "execution_count": 59,
      "outputs": [
        {
          "output_type": "stream",
          "name": "stdout",
          "text": [
            "The array are [1, 2, 3, 4, 5, 6, 7, 8, 9, 10]\n",
            "1\n",
            "2\n",
            "3\n",
            "4\n",
            "5\n",
            "6\n",
            "7\n",
            "8\n",
            "9\n",
            "10\n",
            "11\n",
            "10\n",
            "9\n",
            "8\n",
            "7\n",
            "6\n",
            "5\n",
            "4\n",
            "3\n",
            "2\n",
            "21\n",
            "1\n",
            "The array are ['11', 10, 9, 8, 7, 6, 5, 4, 3, 2, 21, 1]\n"
          ]
        }
      ]
    }
  ]
}