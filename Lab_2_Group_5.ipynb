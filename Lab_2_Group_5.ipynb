{
  "nbformat": 4,
  "nbformat_minor": 0,
  "metadata": {
    "colab": {
      "provenance": [],
      "authorship_tag": "ABX9TyMhJOtMidjuwn3hniVsZ08/",
      "include_colab_link": true
    },
    "kernelspec": {
      "name": "python3",
      "display_name": "Python 3"
    },
    "language_info": {
      "name": "python"
    }
  },
  "cells": [
    {
      "cell_type": "markdown",
      "metadata": {
        "id": "view-in-github",
        "colab_type": "text"
      },
      "source": [
        "<a href=\"https://colab.research.google.com/github/ZamoraKath/DSA-2-2-58011-/blob/main/Lab_2_Group_5.ipynb\" target=\"_parent\"><img src=\"https://colab.research.google.com/assets/colab-badge.svg\" alt=\"Open In Colab\"/></a>"
      ]
    },
    {
      "cell_type": "code",
      "execution_count": 3,
      "metadata": {
        "id": "Gqvp3k8iPnQ6"
      },
      "outputs": [],
      "source": [
        "def maximum_in_list(nums):\n",
        "    l = len(nums)\n",
        "    if l == 1:\n",
        "        return nums[0]\n",
        "    m1 = maximum_in_list(nums[0:l//2])\n",
        "    m2 = maximum_in_list(nums[l//2:l])\n",
        "    if m1 > m2:\n",
        "        return m1\n",
        "    else:\n",
        "        return m2"
      ]
    },
    {
      "cell_type": "code",
      "source": [
        "def findMinRec(A, n):\n",
        "    if (n == 1):\n",
        "        return A[0]\n",
        "    return min(A[n - 1], findMinRec(A, n - 1))\n",
        "\n",
        "if __name__ == '__main__':\n",
        "    A = [1, 4, 45, 6, -50, 10, 2]\n",
        "    n = len(A)\n",
        "    print(findMinRec(A, n))"
      ],
      "metadata": {
        "colab": {
          "base_uri": "https://localhost:8080/"
        },
        "id": "Jb7WC5W8bZhv",
        "outputId": "5992a1d4-9d6c-4ff9-b928-1425659b8fe0"
      },
      "execution_count": 4,
      "outputs": [
        {
          "output_type": "stream",
          "name": "stdout",
          "text": [
            "-50\n"
          ]
        }
      ]
    }
  ]
}