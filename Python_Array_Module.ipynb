{
  "nbformat": 4,
  "nbformat_minor": 0,
  "metadata": {
    "colab": {
      "provenance": [],
      "authorship_tag": "ABX9TyOZGmhat6+WTiuwFac8Abgk",
      "include_colab_link": true
    },
    "kernelspec": {
      "name": "python3",
      "display_name": "Python 3"
    },
    "language_info": {
      "name": "python"
    }
  },
  "cells": [
    {
      "cell_type": "markdown",
      "metadata": {
        "id": "view-in-github",
        "colab_type": "text"
      },
      "source": [
        "<a href=\"https://colab.research.google.com/github/ZamoraKath/DSA-2-2-58011-/blob/main/Python_Array_Module.ipynb\" target=\"_parent\"><img src=\"https://colab.research.google.com/assets/colab-badge.svg\" alt=\"Open In Colab\"/></a>"
      ]
    },
    {
      "cell_type": "markdown",
      "source": [
        "EXAMPLE 1"
      ],
      "metadata": {
        "id": "SeozC5CjDqyN"
      }
    },
    {
      "cell_type": "code",
      "execution_count": 6,
      "metadata": {
        "colab": {
          "base_uri": "https://localhost:8080/"
        },
        "id": "uliwoQA_BIX-",
        "outputId": "afa751b2-b3e1-4e27-8b37-ebfdcd32b67e"
      },
      "outputs": [
        {
          "output_type": "stream",
          "name": "stdout",
          "text": [
            "i\n",
            "f\n"
          ]
        }
      ],
      "source": [
        "import array\n",
        "array.typecodes #to use all the typecodes\n",
        "\n",
        "a = array.array('i',[1,2,3,4,5,6,7,8,9,10]) #initialize the element a\n",
        "b = array.array('f',[1.5,2.5,3.5,4.5,5.5,6.5]) #initialize the element b\n",
        "\n",
        "print(a.typecode)\n",
        "print(b.typecode)"
      ]
    },
    {
      "cell_type": "markdown",
      "source": [
        "EXAMPLE 2"
      ],
      "metadata": {
        "id": "9AI7hMrkDxte"
      }
    },
    {
      "cell_type": "code",
      "source": [
        "import array\n",
        "array.typecodes\n",
        "\n",
        "a = array.array('f',[1,2,3,4,5,6,7,8,9,10])\n",
        "\n",
        "print(a)"
      ],
      "metadata": {
        "colab": {
          "base_uri": "https://localhost:8080/"
        },
        "id": "UNhx3GPeD4dW",
        "outputId": "d1d54a8b-f480-4373-ce01-757394a7f76c"
      },
      "execution_count": 8,
      "outputs": [
        {
          "output_type": "stream",
          "name": "stdout",
          "text": [
            "array('f', [1.0, 2.0, 3.0, 4.0, 5.0, 6.0, 7.0, 8.0, 9.0, 10.0])\n"
          ]
        }
      ]
    },
    {
      "cell_type": "markdown",
      "source": [
        "Insert an element 11 to the first index of the array a"
      ],
      "metadata": {
        "id": "elPjkPpdH5B9"
      }
    },
    {
      "cell_type": "code",
      "source": [
        "import array\n",
        "array.typecodes\n",
        "\n",
        "a = array.array('f',[1,2,3,4,5,6,7,8,9,10])\n",
        "a.insert(0,11)\n",
        "\n",
        "print(a)"
      ],
      "metadata": {
        "colab": {
          "base_uri": "https://localhost:8080/"
        },
        "id": "wVeI8oijI0Qj",
        "outputId": "b91a18ea-653a-447f-ae31-9465e390932c"
      },
      "execution_count": 9,
      "outputs": [
        {
          "output_type": "stream",
          "name": "stdout",
          "text": [
            "array('f', [11.0, 1.0, 2.0, 3.0, 4.0, 5.0, 6.0, 7.0, 8.0, 9.0, 10.0])\n"
          ]
        }
      ]
    },
    {
      "cell_type": "markdown",
      "source": [
        "What is the output of these codes?"
      ],
      "metadata": {
        "id": "xGJAb9oWLU6V"
      }
    },
    {
      "cell_type": "code",
      "source": [
        "import array\n",
        "\n",
        "a = array.array('i',[1,2,3,4,5,6,7,8,9,10])\n",
        "\n",
        "a.insert(1,2)\n",
        "a\n",
        "a.insert(-1,0)\n",
        "a\n",
        "a.insert(8, -1)\n",
        "a\n",
        "print(a)"
      ],
      "metadata": {
        "colab": {
          "base_uri": "https://localhost:8080/"
        },
        "id": "dv5UzMh8LYPM",
        "outputId": "624d616d-e98e-456c-aad8-5ff3df0aaf5f"
      },
      "execution_count": 25,
      "outputs": [
        {
          "output_type": "stream",
          "name": "stdout",
          "text": [
            "array('i', [1, 2, 2, 3, 4, 5, 6, 7, -1, 8, 9, 0, 10])\n"
          ]
        }
      ]
    },
    {
      "cell_type": "markdown",
      "source": [
        "EXAMPLE 3"
      ],
      "metadata": {
        "id": "f6Az6IHaDx2N"
      }
    },
    {
      "cell_type": "code",
      "source": [
        "class Node:\n",
        "  def __init__(self,data):\n",
        "    self.data = data \n",
        "    self.next = None \n",
        "\n",
        "    class LinkedList:\n",
        "      def __init__(self):\n",
        "        self.head = None"
      ],
      "metadata": {
        "id": "Jpst4Kw4D3ia"
      },
      "execution_count": 26,
      "outputs": []
    },
    {
      "cell_type": "markdown",
      "source": [
        "EXAMPLE 4"
      ],
      "metadata": {
        "id": "Wyo6BPNcDx-A"
      }
    },
    {
      "cell_type": "code",
      "source": [
        "#Initialize the node class\n",
        "class Node:\n",
        "  def __init__(self,data):\n",
        "    self.data = data #Assign Data\n",
        "    self.next = None #Initialize next as null\n",
        "\n",
        "class LinkedList:\n",
        "  def __init__(self):\n",
        "    self.head = None #initialize the head\n",
        "\n",
        "llist=LinkedList() #empty list\n",
        "llist.head = Node(1)\n",
        "second = Node(2)\n",
        "third = Node(3)\n",
        "\n",
        "llist.head.next = second;\n",
        "second.next = third;\n",
        "\n",
        "\n"
      ],
      "metadata": {
        "id": "nKGgtNE6D5zc"
      },
      "execution_count": 31,
      "outputs": []
    },
    {
      "cell_type": "markdown",
      "source": [
        "EXAMPLE 5"
      ],
      "metadata": {
        "id": "YzeKRrF_DyHl"
      }
    },
    {
      "cell_type": "code",
      "source": [
        "#Initialize the node class\n",
        "class Node:\n",
        "  def __init__(self,data):\n",
        "    self.data = data #Assign Data\n",
        "    self.next = None #Initialize next as null\n",
        "\n",
        "class LinkedList:\n",
        "  def __init__(self):\n",
        "    self.head = None #initialize the head\n",
        "  def printlist(self):\n",
        "    temp = self.head\n",
        "    while(temp):\n",
        "      print(temp.data)\n",
        "      temp = temp.next\n",
        "\n",
        "  llist=LinkedList() #empty list\n",
        "  llist.head = Node(1)\n",
        "  second = Node(2)\n",
        "  third = Node(3)\n",
        "\n",
        "llist.head.next = second;\n",
        "second.next = third;\n",
        "\n",
        "llist.printlist()\n"
      ],
      "metadata": {
        "colab": {
          "base_uri": "https://localhost:8080/"
        },
        "id": "IXRxb6U3V4K9",
        "outputId": "1887b007-f9ed-4323-9783-237d533252e6"
      },
      "execution_count": 44,
      "outputs": [
        {
          "output_type": "stream",
          "name": "stdout",
          "text": [
            "1\n",
            "2\n",
            "3\n"
          ]
        }
      ]
    }
  ]
}