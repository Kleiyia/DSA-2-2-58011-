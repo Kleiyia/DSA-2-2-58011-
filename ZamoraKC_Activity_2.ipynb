{
  "nbformat": 4,
  "nbformat_minor": 0,
  "metadata": {
    "colab": {
      "provenance": [],
      "authorship_tag": "ABX9TyOF8KV9aa5SlNz4c6z54Zfb",
      "include_colab_link": true
    },
    "kernelspec": {
      "name": "python3",
      "display_name": "Python 3"
    },
    "language_info": {
      "name": "python"
    }
  },
  "cells": [
    {
      "cell_type": "markdown",
      "metadata": {
        "id": "view-in-github",
        "colab_type": "text"
      },
      "source": [
        "<a href=\"https://colab.research.google.com/github/ZamoraKath/DSA-2-2-58011-/blob/main/ZamoraKC_Activity_2.ipynb\" target=\"_parent\"><img src=\"https://colab.research.google.com/assets/colab-badge.svg\" alt=\"Open In Colab\"/></a>"
      ]
    },
    {
      "cell_type": "code",
      "source": [
        "class Node:\n",
        "  def __init__(self,data):\n",
        "    self.data = data \n",
        "    self.next = None\n",
        "\n",
        "class LinkedList:\n",
        "  def __init__(self):\n",
        "    self.head = None\n",
        "  def printlist(self):\n",
        "    temp = self.head\n",
        "    while(temp):\n",
        "      print(temp.data)\n",
        "      temp = temp.next\n",
        "\n",
        "  def vowel(vowel):\n",
        "    return (vowel == 'a' or vowel == 'e' or vowel == 'i' or vowel == 'o' \n",
        "            or vowel == 'u')\n",
        "\n",
        "llist=LinkedList() \n",
        "second = Node(\"a\")\n",
        "third = Node(\"e\")\n",
        "fourth = Node(\"i\")\n",
        "fifth = Node(\"o\")\n",
        "sixth = Node(\"u\")\n",
        "\n",
        "llist.head = second;\n",
        "second.next= third;\n",
        "third.next= fourth;\n",
        "fourth.next= fifth;\n",
        "fifth.next= sixth;\n",
        "\n",
        "print()"
      ],
      "metadata": {
        "colab": {
          "base_uri": "https://localhost:8080/"
        },
        "id": "qXhNfIJ8tJ05",
        "outputId": "6393d3d6-eb11-4485-cee0-d8ab484a8c05"
      },
      "execution_count": null,
      "outputs": [
        {
          "output_type": "stream",
          "name": "stdout",
          "text": [
            "\n"
          ]
        }
      ]
    },
    {
      "cell_type": "markdown",
      "source": [
        "Draft"
      ],
      "metadata": {
        "id": "j-_JOz3koaTJ"
      }
    },
    {
      "cell_type": "code",
      "source": [
        "class Node:\n",
        "  def __init__(self, vowels):\n",
        "    self.data = vowels\n",
        "    self.next = None\n",
        "\n",
        "  def vowel(vowel):\n",
        "    return (vowel == 'a' or vowel == 'e' or vowel == 'i' or vowel == 'o' \n",
        "            or vowel == 'u')\n",
        "\n",
        "if __name__ == '__main__':\n",
        "\n",
        "  head = Node(\"a\")\n",
        "  head.next = Node(\"e\")\n",
        "  head.next.next = Node(\"i\")\n",
        "  head.next.next.next = Node(\"o\")\n",
        "  head.next.next.next.next = Node(\"u\")\n",
        "\n",
        "  print()\n"
      ],
      "metadata": {
        "colab": {
          "base_uri": "https://localhost:8080/"
        },
        "id": "ym49ao4CoaCo",
        "outputId": "e84ba94d-170a-4eb2-b9fa-24df47c90960"
      },
      "execution_count": null,
      "outputs": [
        {
          "output_type": "stream",
          "name": "stdout",
          "text": [
            "\n"
          ]
        }
      ]
    }
  ]
}