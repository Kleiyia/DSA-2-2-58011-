{
  "nbformat": 4,
  "nbformat_minor": 0,
  "metadata": {
    "colab": {
      "provenance": [],
      "authorship_tag": "ABX9TyMaj7um2Eu3m7jNwVVpVK/M",
      "include_colab_link": true
    },
    "kernelspec": {
      "name": "python3",
      "display_name": "Python 3"
    },
    "language_info": {
      "name": "python"
    }
  },
  "cells": [
    {
      "cell_type": "markdown",
      "metadata": {
        "id": "view-in-github",
        "colab_type": "text"
      },
      "source": [
        "<a href=\"https://colab.research.google.com/github/ZamoraKath/DSA-2-2-58011-/blob/main/Graphs-DEMO-G20.ipynb\" target=\"_parent\"><img src=\"https://colab.research.google.com/assets/colab-badge.svg\" alt=\"Open In Colab\"/></a>"
      ]
    },
    {
      "cell_type": "markdown",
      "source": [
        "DEMO"
      ],
      "metadata": {
        "id": "6NSI8vRrbRwg"
      }
    },
    {
      "cell_type": "markdown",
      "source": [
        "1st GRAPH"
      ],
      "metadata": {
        "id": "6Oj5F4W9dD9Q"
      }
    },
    {
      "cell_type": "code",
      "source": [
        "#Data Elements using Dictionaries to implement Graphs\n",
        "graph = {\n",
        "    'a': ['b','c'],\n",
        "    'b': ['a','d'],\n",
        "    'c': ['a','d'],\n",
        "    'd': ['b','c','d','e'],\n",
        "    'e': ['e']\n",
        "}"
      ],
      "metadata": {
        "id": "jBnGyhaSYpf8"
      },
      "execution_count": 1,
      "outputs": []
    },
    {
      "cell_type": "code",
      "source": [
        "#Data Elements using Dictionaries to implement Graphs\n",
        "graph = {\n",
        "    'a': ['b','c'],\n",
        "    'b': ['a','d'],\n",
        "    'c': ['a','d'],\n",
        "    'd': ['b','c','d','e'],\n",
        "    'e': ['e']\n",
        "}\n",
        "print(graph)"
      ],
      "metadata": {
        "colab": {
          "base_uri": "https://localhost:8080/"
        },
        "id": "3J9gaLrybAK3",
        "outputId": "31c69809-f07b-4971-9698-6a5f8157da75"
      },
      "execution_count": 2,
      "outputs": [
        {
          "output_type": "stream",
          "name": "stdout",
          "text": [
            "{'a': ['b', 'c'], 'b': ['a', 'd'], 'c': ['a', 'd'], 'd': ['b', 'c', 'd', 'e'], 'e': ['e']}\n"
          ]
        }
      ]
    },
    {
      "cell_type": "code",
      "source": [
        "#Data Elements using Dictionaries to implement Graphs\n",
        "graph = {\n",
        "    'a': ['b','c'],\n",
        "    'b': ['a','d'],\n",
        "    'c': ['a','d'],\n",
        "    'c': ['a','d'],\n",
        "    'd': ['b','c','d','e'],\n",
        "    'e': ['e']\n",
        "}\n",
        "print(graph)"
      ],
      "metadata": {
        "colab": {
          "base_uri": "https://localhost:8080/"
        },
        "id": "TGTiXqKHbbNC",
        "outputId": "a7f453d1-069c-42c6-f95e-3630463af239"
      },
      "execution_count": 3,
      "outputs": [
        {
          "output_type": "stream",
          "name": "stdout",
          "text": [
            "{'a': ['b', 'c'], 'b': ['a', 'd'], 'c': ['a', 'd'], 'd': ['b', 'c', 'd', 'e'], 'e': ['e']}\n"
          ]
        }
      ]
    },
    {
      "cell_type": "markdown",
      "source": [
        "2-2nd GRAPH"
      ],
      "metadata": {
        "id": "qdFC_6hMdG_G"
      }
    },
    {
      "cell_type": "code",
      "source": [
        "#Application of Data elements using dictionaries to implement Graphs\n",
        "G20 = {\n",
        "    '1': ['4'],\n",
        "    '2': ['1','3','4'],\n",
        "    '3': ['2','4'],\n",
        "    '4': [],\n",
        "}\n",
        "print(G20)"
      ],
      "metadata": {
        "colab": {
          "base_uri": "https://localhost:8080/"
        },
        "id": "MOY0o84NdJm6",
        "outputId": "b1172635-b413-438f-f382-5b3a2eaef367"
      },
      "execution_count": 5,
      "outputs": [
        {
          "output_type": "stream",
          "name": "stdout",
          "text": [
            "{'1': ['4'], '2': ['1', '3', '4'], '3': ['2', '4'], '4': []}\n"
          ]
        }
      ]
    }
  ]
}