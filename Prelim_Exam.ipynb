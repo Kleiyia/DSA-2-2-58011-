{
  "nbformat": 4,
  "nbformat_minor": 0,
  "metadata": {
    "colab": {
      "provenance": [],
      "collapsed_sections": [],
      "authorship_tag": "ABX9TyPI4eAOpKye3lQOFgCUAbyE",
      "include_colab_link": true
    },
    "kernelspec": {
      "name": "python3",
      "display_name": "Python 3"
    },
    "language_info": {
      "name": "python"
    }
  },
  "cells": [
    {
      "cell_type": "markdown",
      "metadata": {
        "id": "view-in-github",
        "colab_type": "text"
      },
      "source": [
        "<a href=\"https://colab.research.google.com/github/ZamoraKath/DSA-2-2-58011-/blob/main/Prelim_Exam.ipynb\" target=\"_parent\"><img src=\"https://colab.research.google.com/assets/colab-badge.svg\" alt=\"Open In Colab\"/></a>"
      ]
    },
    {
      "cell_type": "markdown",
      "source": [
        "Programming\n",
        "* Choose Array or Linked list data structure\n",
        "* Create a python program that appends all positive integres less than 10 but greater than 1 and counts the number of composite\n",
        "* Save your program as \"Prelim Exam\" to your GitHub\n",
        "* Send the link address of Github to the prelim Exam folder (BlackBoard)\n",
        "\n"
      ],
      "metadata": {
        "id": "AZudBOq-tk9P"
      }
    },
    {
      "cell_type": "markdown",
      "source": [
        "ANSWER"
      ],
      "metadata": {
        "id": "4QxUQjWYud0p"
      }
    },
    {
      "cell_type": "code",
      "execution_count": 7,
      "metadata": {
        "id": "cUIqd8v7p-7-",
        "colab": {
          "base_uri": "https://localhost:8080/"
        },
        "outputId": "904b6023-45a5-40a9-a2fb-db942f3caeae"
      },
      "outputs": [
        {
          "output_type": "stream",
          "name": "stdout",
          "text": [
            "Composite Integers less than 10 but greater than 1 : [2, 4, 6, 8]\n",
            "Number of Composite Integers : 4\n"
          ]
        }
      ],
      "source": [
        "CompInt = [2,4,6,8]\n",
        "print(\"Composite Integers less than 10 but greater than 1 :\",CompInt)\n",
        "print(\"Number of Composite Integers :\",len(CompInt))"
      ]
    }
  ]
}