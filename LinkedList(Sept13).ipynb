{
  "nbformat": 4,
  "nbformat_minor": 0,
  "metadata": {
    "colab": {
      "provenance": [],
      "authorship_tag": "ABX9TyPTvms+tf4i97JHNMN6dTtJ",
      "include_colab_link": true
    },
    "kernelspec": {
      "name": "python3",
      "display_name": "Python 3"
    },
    "language_info": {
      "name": "python"
    }
  },
  "cells": [
    {
      "cell_type": "markdown",
      "metadata": {
        "id": "view-in-github",
        "colab_type": "text"
      },
      "source": [
        "<a href=\"https://colab.research.google.com/github/ZamoraKath/DSA-2-2-58011-/blob/main/LinkedList(Sept13).ipynb\" target=\"_parent\"><img src=\"https://colab.research.google.com/assets/colab-badge.svg\" alt=\"Open In Colab\"/></a>"
      ]
    },
    {
      "cell_type": "code",
      "execution_count": 2,
      "metadata": {
        "colab": {
          "base_uri": "https://localhost:8080/"
        },
        "id": "SzlH_GQ7Wrgp",
        "outputId": "89ea8def-b6de-43aa-a786-ba18185f1a8a"
      },
      "outputs": [
        {
          "output_type": "stream",
          "name": "stdout",
          "text": [
            "a\n",
            "e\n",
            "i\n",
            "o\n",
            "u\n",
            "The head of the list is a\n",
            "The tail of the list is u\n"
          ]
        }
      ],
      "source": [
        "class Node:\n",
        "  def __init__(self,data):\n",
        "    self.data = data\n",
        "    self.next = None\n",
        "\n",
        "class LinkedList:\n",
        "  def __init__(self):\n",
        "    self.head = None\n",
        "  def printList(self):\n",
        "    temp = self.head\n",
        "    while(temp):\n",
        "      print(temp.data)\n",
        "      temp = temp.next\n",
        "\n",
        "llist = LinkedList()\n",
        "llist.head = Node(\"a\")\n",
        "second = Node(\"e\")\n",
        "third = Node(\"i\")\n",
        "fourth = Node(\"o\")\n",
        "fifth = Node(\"u\")\n",
        "\n",
        "llist.head.next = second\n",
        "second.next = third\n",
        "third.next = fourth\n",
        "fourth.next = fifth\n",
        "\n",
        "llist.printList()\n",
        "print(\"The head of the list is\",llist.head.data)\n",
        "print(\"The tail of the list is\",fifth.data)\n"
      ]
    },
    {
      "cell_type": "code",
      "source": [
        "llist = LinkedList()\n",
        "llist.head = Node(\"a\")\n",
        "second = Node(\"e\")\n",
        "third = Node(\"i\")\n",
        "fourth = Node(\"o\")\n",
        "fifth = Node(\"u\")\n",
        "\n",
        "llist.head.next = second\n",
        "second.next = third\n",
        "third.next = fourth\n",
        "fourth.next = fifth\n",
        "\n",
        "llist.printList()\n",
        "print(\"The head of the list is\",llist.head.data)\n",
        "print(\"The tail of the list is\",fifth.data)"
      ],
      "metadata": {
        "colab": {
          "base_uri": "https://localhost:8080/"
        },
        "id": "j_FcqGwsdv9U",
        "outputId": "0ec23b5c-8b3a-4758-b3b1-591d5e55b204"
      },
      "execution_count": 3,
      "outputs": [
        {
          "output_type": "stream",
          "name": "stdout",
          "text": [
            "a\n",
            "e\n",
            "i\n",
            "o\n",
            "u\n",
            "The head of the list is a\n",
            "The tail of the list is u\n"
          ]
        }
      ]
    }
  ]
}