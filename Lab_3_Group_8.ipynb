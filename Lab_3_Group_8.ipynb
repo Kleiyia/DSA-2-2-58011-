{
  "nbformat": 4,
  "nbformat_minor": 0,
  "metadata": {
    "colab": {
      "provenance": [],
      "authorship_tag": "ABX9TyMdLtqX+j4ZuNjbpFYZ/rMx",
      "include_colab_link": true
    },
    "kernelspec": {
      "name": "python3",
      "display_name": "Python 3"
    },
    "language_info": {
      "name": "python"
    }
  },
  "cells": [
    {
      "cell_type": "markdown",
      "metadata": {
        "id": "view-in-github",
        "colab_type": "text"
      },
      "source": [
        "<a href=\"https://colab.research.google.com/github/ZamoraKath/DSA-2-2-58011-/blob/main/Lab_3_Group_8.ipynb\" target=\"_parent\"><img src=\"https://colab.research.google.com/assets/colab-badge.svg\" alt=\"Open In Colab\"/></a>"
      ]
    },
    {
      "cell_type": "markdown",
      "source": [
        "Let A be an array of size n ≥ 2 containing integers from 1 to n−1, inclusive, with exactly one repeated"
      ],
      "metadata": {
        "id": "uQoSeDAwZpPB"
      }
    },
    {
      "cell_type": "code",
      "source": [
        "def main():\n",
        "  x=0\n",
        "  \n",
        "array = [-1, 0, 1]\n",
        "\n",
        "for i,A in enumerate(array):\n",
        "  print(i,A)\n"
      ],
      "metadata": {
        "id": "svPtPx3pZmlv",
        "colab": {
          "base_uri": "https://localhost:8080/"
        },
        "outputId": "9d8d51e2-4f52-4e0e-ae19-ba304d5421d5"
      },
      "execution_count": null,
      "outputs": [
        {
          "output_type": "stream",
          "name": "stdout",
          "text": [
            "0 -1\n",
            "1 0\n",
            "2 1\n"
          ]
        }
      ]
    },
    {
      "cell_type": "markdown",
      "source": [
        "Write a program that can perform the Caesar cipher for English messages, including both upper- and lowercase characters."
      ],
      "metadata": {
        "id": "Q9Zupcswgh2u"
      }
    },
    {
      "cell_type": "code",
      "source": [
        "message = 'LaboratoryReport3-Array'\n",
        "LETTERS = 'AaBbCcDdEeFfGgHhIiJjKkLlMmNnOoPpQqRrSsTtUuVvWwXxYyZz'\n",
        "NUMBERS = '0123456789'\n",
        "for key in range(len(LETTERS)):\n",
        "   translated = ''\n",
        "   for symbol in message:\n",
        "      if symbol in LETTERS:\n",
        "         num = LETTERS.find(symbol)\n",
        "         num = num - key\n",
        "         if num < 0:\n",
        "            num = num + len(LETTERS)\n",
        "         translated = translated + LETTERS[num]\n",
        "print('English #%s: %s' % (key, translated))"
      ],
      "metadata": {
        "id": "rVuQjvtFgkHu",
        "colab": {
          "base_uri": "https://localhost:8080/"
        },
        "outputId": "c9effa78-073c-44a9-96c0-d34f0fae9385"
      },
      "execution_count": null,
      "outputs": [
        {
          "output_type": "stream",
          "name": "stdout",
          "text": [
            "English #51: lBCPSBUPSZrFQPSUaSSBZ\n"
          ]
        }
      ]
    }
  ]
}